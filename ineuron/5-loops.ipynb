{
 "cells": [
  {
   "cell_type": "code",
   "execution_count": 1,
   "id": "1120771e",
   "metadata": {},
   "outputs": [],
   "source": [
    "l = [1,2,3,4,\"sudh\",\"kumar\",45.56]"
   ]
  },
  {
   "cell_type": "code",
   "execution_count": 4,
   "id": "bc9c329f",
   "metadata": {},
   "outputs": [
    {
     "name": "stdout",
     "output_type": "stream",
     "text": [
      "1\n",
      "2\n",
      "3\n",
      "4\n",
      "sudh\n",
      "kumar\n",
      "45.56\n"
     ]
    }
   ],
   "source": [
    "for i in l :\n",
    "    print(i)"
   ]
  },
  {
   "cell_type": "code",
   "execution_count": 5,
   "id": "7a6c9bc2",
   "metadata": {},
   "outputs": [],
   "source": [
    "for i in l:\n",
    "    pass"
   ]
  },
  {
   "cell_type": "code",
   "execution_count": 7,
   "id": "e5424805",
   "metadata": {},
   "outputs": [
    {
     "name": "stdout",
     "output_type": "stream",
     "text": [
      "s\n",
      "u\n",
      "d\n",
      "h\n"
     ]
    }
   ],
   "source": [
    "s= \"sudh\"\n",
    "for i in s:\n",
    "    print(i)"
   ]
  },
  {
   "cell_type": "code",
   "execution_count": 8,
   "id": "1308bc7a",
   "metadata": {},
   "outputs": [
    {
     "name": "stdout",
     "output_type": "stream",
     "text": [
      "1\n",
      "2\n",
      "3\n",
      "4\n",
      "sudh\n",
      "kumar\n",
      "45.56\n",
      "if for loop is going to complete itself the it will execute else\n"
     ]
    }
   ],
   "source": [
    "for i  in l:\n",
    "    print(i)\n",
    "else:\n",
    "    print('if for loop is going to complete itself the it will execute else')"
   ]
  },
  {
   "cell_type": "code",
   "execution_count": 9,
   "id": "797ffddc",
   "metadata": {},
   "outputs": [
    {
     "data": {
      "text/plain": [
       "[1, 2, 3, 4, 'sudh', 'kumar', 45.56]"
      ]
     },
     "execution_count": 9,
     "metadata": {},
     "output_type": "execute_result"
    }
   ],
   "source": [
    "l"
   ]
  },
  {
   "cell_type": "code",
   "execution_count": 12,
   "id": "eb9b1113",
   "metadata": {},
   "outputs": [
    {
     "name": "stdout",
     "output_type": "stream",
     "text": [
      "1\n",
      "2\n",
      "3\n",
      "4\n"
     ]
    }
   ],
   "source": [
    "for i in l:\n",
    "    if i ==\"sudh\":\n",
    "        break\n",
    "    print(i)\n",
    "else :\n",
    "    print(\"this will execute only if for is going to complete itself\")"
   ]
  },
  {
   "cell_type": "code",
   "execution_count": 16,
   "id": "375c7045",
   "metadata": {},
   "outputs": [
    {
     "name": "stdout",
     "output_type": "stream",
     "text": [
      "s\n",
      "u\n",
      "d\n",
      "h\n",
      "a\n",
      "n\n",
      "s\n",
      "h\n",
      "u\n",
      "print string sudhanshu\n"
     ]
    }
   ],
   "source": [
    "s= 'sudhanshu'\n",
    "for i in s:\n",
    "    if i == 'i':\n",
    "        break\n",
    "    print(i)\n",
    "else :\n",
    "    print(\"print string\",s)\n",
    "    "
   ]
  },
  {
   "cell_type": "code",
   "execution_count": 19,
   "id": "53e2d8ec",
   "metadata": {},
   "outputs": [
    {
     "name": "stdout",
     "output_type": "stream",
     "text": [
      "4\n",
      "5\n",
      "6\n",
      "7\n",
      "8\n",
      "6\n",
      "sudh\n"
     ]
    }
   ],
   "source": [
    "t=(4,5,6,7,8,6,\"sudh\")\n",
    "for i in t:\n",
    "    print(i)"
   ]
  },
  {
   "cell_type": "code",
   "execution_count": 21,
   "id": "db8f6d14",
   "metadata": {},
   "outputs": [
    {
     "name": "stdout",
     "output_type": "stream",
     "text": [
      "4\n",
      "5\n",
      "6\n",
      "sudh\n",
      "7\n"
     ]
    }
   ],
   "source": [
    "b={4,5,6,7,7,7,\"sudh\"}\n",
    "for i in b:\n",
    "    print(i)"
   ]
  },
  {
   "cell_type": "code",
   "execution_count": 22,
   "id": "0ad7cd9f",
   "metadata": {},
   "outputs": [],
   "source": [
    "d= {'key1':\"sudh\", 'contact':\"sudhanshu@ineuron.ai\",'position':\"xyz\"}"
   ]
  },
  {
   "cell_type": "code",
   "execution_count": 26,
   "id": "63747073",
   "metadata": {},
   "outputs": [
    {
     "name": "stdout",
     "output_type": "stream",
     "text": [
      "key1 : sudh\n",
      "contact : sudhanshu@ineuron.ai\n",
      "position : xyz\n"
     ]
    }
   ],
   "source": [
    "for i in d:\n",
    "    print(i,\":\", d[i])"
   ]
  },
  {
   "cell_type": "code",
   "execution_count": 24,
   "id": "91f0e395",
   "metadata": {},
   "outputs": [
    {
     "data": {
      "text/plain": [
       "'sudh'"
      ]
     },
     "execution_count": 24,
     "metadata": {},
     "output_type": "execute_result"
    }
   ],
   "source": [
    "d['key1']"
   ]
  },
  {
   "cell_type": "code",
   "execution_count": 32,
   "id": "39b881fe",
   "metadata": {},
   "outputs": [
    {
     "data": {
      "text/plain": [
       "range(0, 9, 2)"
      ]
     },
     "execution_count": 32,
     "metadata": {},
     "output_type": "execute_result"
    }
   ],
   "source": [
    "range(0,9,2)"
   ]
  },
  {
   "cell_type": "code",
   "execution_count": 34,
   "id": "c6d10ecb",
   "metadata": {},
   "outputs": [
    {
     "data": {
      "text/plain": [
       "[0, 2, 4, 6, 8]"
      ]
     },
     "execution_count": 34,
     "metadata": {},
     "output_type": "execute_result"
    }
   ],
   "source": [
    "list(range(0,9,2))"
   ]
  },
  {
   "cell_type": "code",
   "execution_count": 35,
   "id": "66f9d050",
   "metadata": {},
   "outputs": [
    {
     "data": {
      "text/plain": [
       "[]"
      ]
     },
     "execution_count": 35,
     "metadata": {},
     "output_type": "execute_result"
    }
   ],
   "source": [
    "list(range(0,9,-1))"
   ]
  },
  {
   "cell_type": "code",
   "execution_count": 45,
   "id": "e1e1c730",
   "metadata": {},
   "outputs": [
    {
     "name": "stdout",
     "output_type": "stream",
     "text": [
      "sudh \n",
      "\n",
      "sudh sudh \n",
      "\n",
      "sudh sudh sudh \n",
      "\n",
      "sudh sudh sudh sudh \n",
      "\n"
     ]
    }
   ],
   "source": [
    "n = 4\n",
    "for i in range(4):\n",
    "    for j in range(0,i+1):\n",
    "        print(\"sudh\", end = \" \")\n",
    "    print(\"\\n\")"
   ]
  },
  {
   "cell_type": "code",
   "execution_count": 48,
   "id": "294c0fbf",
   "metadata": {},
   "outputs": [
    {
     "name": "stdout",
     "output_type": "stream",
     "text": [
      "          sudh \n",
      "\n",
      "     sudh sudh sudh \n",
      "\n",
      "sudh sudh sudh sudh sudh \n",
      "\n"
     ]
    }
   ],
   "source": [
    "n = 3\n",
    "for i in range(n):\n",
    "    for j in range(i,n-1):\n",
    "        print(\" \"*len(\"sudh\"), end = \" \")\n",
    "    for j in range(i+1):\n",
    "        print(\"sudh\", end = \" \")\n",
    "    for j in range(i):\n",
    "        print(\"sudh\", end = \" \")\n",
    "    print(\"\\n\")"
   ]
  },
  {
   "cell_type": "code",
   "execution_count": 49,
   "id": "5fbe56ea",
   "metadata": {},
   "outputs": [],
   "source": [
    "t = (3,23,45,67,2,4,5,6)"
   ]
  },
  {
   "cell_type": "code",
   "execution_count": 51,
   "id": "ec32b9e6",
   "metadata": {},
   "outputs": [
    {
     "data": {
      "text/plain": [
       "3"
      ]
     },
     "execution_count": 51,
     "metadata": {},
     "output_type": "execute_result"
    }
   ],
   "source": [
    "t[0]"
   ]
  },
  {
   "cell_type": "code",
   "execution_count": 52,
   "id": "d05f2edd",
   "metadata": {
    "scrolled": true
   },
   "outputs": [
    {
     "name": "stdout",
     "output_type": "stream",
     "text": [
      "0 3\n",
      "1 23\n",
      "2 45\n",
      "3 67\n",
      "4 2\n",
      "5 4\n",
      "6 5\n",
      "7 6\n"
     ]
    }
   ],
   "source": [
    "for i in range(len(t)):\n",
    "    print(i,t[i])"
   ]
  },
  {
   "cell_type": "code",
   "execution_count": 53,
   "id": "b40945c0",
   "metadata": {},
   "outputs": [
    {
     "name": "stdout",
     "output_type": "stream",
     "text": [
      "0 i\n",
      "1 n\n",
      "2 e\n",
      "3 u\n",
      "4 r\n",
      "5 o\n",
      "6 n\n"
     ]
    }
   ],
   "source": [
    "s= \"ineuron\"\n",
    "for i in range(len(s)):\n",
    "    print(i,s[i])"
   ]
  },
  {
   "cell_type": "code",
   "execution_count": 63,
   "id": "c64d3526",
   "metadata": {},
   "outputs": [
    {
     "name": "stdout",
     "output_type": "stream",
     "text": [
      "6 n\n",
      "5 o\n",
      "4 r\n",
      "3 u\n",
      "2 e\n",
      "1 n\n",
      "0 i\n"
     ]
    }
   ],
   "source": [
    "s= \"ineuron\"\n",
    "for i in range(len(s)-1,-1,-1):\n",
    "    print(i,s[i])"
   ]
  },
  {
   "cell_type": "code",
   "execution_count": 50,
   "id": "14f82c57",
   "metadata": {},
   "outputs": [
    {
     "data": {
      "text/plain": [
       "[0, 1, 2, 3, 4, 5, 6, 7]"
      ]
     },
     "execution_count": 50,
     "metadata": {},
     "output_type": "execute_result"
    }
   ],
   "source": [
    "list(range(len(t)))"
   ]
  },
  {
   "cell_type": "code",
   "execution_count": 62,
   "id": "fb1c725b",
   "metadata": {},
   "outputs": [
    {
     "data": {
      "text/plain": [
       "[6, 5, 4, 3, 2, 1, 0]"
      ]
     },
     "execution_count": 62,
     "metadata": {},
     "output_type": "execute_result"
    }
   ],
   "source": [
    "list(range(len(s)-1,-1,-1))"
   ]
  },
  {
   "cell_type": "code",
   "execution_count": 64,
   "id": "10a40b37",
   "metadata": {},
   "outputs": [
    {
     "data": {
      "text/plain": [
       "{'key1': 'sudh', 'contact': 'sudhanshu@ineuron.ai', 'position': 'xyz'}"
      ]
     },
     "execution_count": 64,
     "metadata": {},
     "output_type": "execute_result"
    }
   ],
   "source": [
    "d"
   ]
  },
  {
   "cell_type": "code",
   "execution_count": 65,
   "id": "16df876b",
   "metadata": {},
   "outputs": [
    {
     "data": {
      "text/plain": [
       "dict_items([('key1', 'sudh'), ('contact', 'sudhanshu@ineuron.ai'), ('position', 'xyz')])"
      ]
     },
     "execution_count": 65,
     "metadata": {},
     "output_type": "execute_result"
    }
   ],
   "source": [
    "d.items()"
   ]
  },
  {
   "cell_type": "code",
   "execution_count": 67,
   "id": "f6b66d99",
   "metadata": {},
   "outputs": [
    {
     "name": "stdout",
     "output_type": "stream",
     "text": [
      "('key1', 'sudh') <class 'tuple'> <class 'str'>\n",
      "('contact', 'sudhanshu@ineuron.ai') <class 'tuple'> <class 'str'>\n",
      "('position', 'xyz') <class 'tuple'> <class 'str'>\n"
     ]
    }
   ],
   "source": [
    "for i in d.items():\n",
    "    print(i,type(i),type(i[1]))"
   ]
  },
  {
   "cell_type": "code",
   "execution_count": 70,
   "id": "bdb17af8",
   "metadata": {},
   "outputs": [],
   "source": [
    "l = [\"sudh\",\"kumar\",3234545,\"sudhanshu@ineuron.ai\",345,34345353]\n",
    "l1 = [] \n",
    "for i in l :\n",
    "    if type(i)== int:\n",
    "        l1.append(i)"
   ]
  },
  {
   "cell_type": "code",
   "execution_count": 71,
   "id": "f68da971",
   "metadata": {},
   "outputs": [
    {
     "data": {
      "text/plain": [
       "[3234545, 345, 34345353]"
      ]
     },
     "execution_count": 71,
     "metadata": {},
     "output_type": "execute_result"
    }
   ],
   "source": [
    "l1"
   ]
  },
  {
   "cell_type": "code",
   "execution_count": 77,
   "id": "2baabe37",
   "metadata": {},
   "outputs": [
    {
     "name": "stdout",
     "output_type": "stream",
     "text": [
      "1 : 3345345\n",
      "234 : 3454\n"
     ]
    }
   ],
   "source": [
    "d= {1:3345345,\"name\":\"sudh\", \"email_id\":\"sudhanshu@ineuron.ai\", 234:\"fsfsssf\",\"43\": \"sfasf\",234: \"3454\"}\n",
    "for i in d:\n",
    "    if type(i) == int :\n",
    "        print(i, \":\" , d[i])"
   ]
  },
  {
   "cell_type": "code",
   "execution_count": 78,
   "id": "a1941194",
   "metadata": {},
   "outputs": [],
   "source": [
    "s = \"aaaabbccd\""
   ]
  },
  {
   "cell_type": "code",
   "execution_count": 81,
   "id": "da92d09e",
   "metadata": {},
   "outputs": [
    {
     "data": {
      "text/plain": [
       "{'a', 'b', 'c', 'd'}"
      ]
     },
     "execution_count": 81,
     "metadata": {},
     "output_type": "execute_result"
    }
   ],
   "source": [
    "set(s)"
   ]
  },
  {
   "cell_type": "code",
   "execution_count": 83,
   "id": "d2e5ee05",
   "metadata": {},
   "outputs": [
    {
     "name": "stdout",
     "output_type": "stream",
     "text": [
      "d : 1\n",
      "c : 2\n",
      "b : 2\n",
      "a : 4\n"
     ]
    }
   ],
   "source": [
    "for i in set(s):\n",
    "    print(i , \":\", s.count(i))"
   ]
  },
  {
   "cell_type": "code",
   "execution_count": 85,
   "id": "9cfdd67e",
   "metadata": {},
   "outputs": [
    {
     "data": {
      "text/plain": [
       "4"
      ]
     },
     "execution_count": 85,
     "metadata": {},
     "output_type": "execute_result"
    }
   ],
   "source": [
    "s.count(\"a\")"
   ]
  },
  {
   "cell_type": "code",
   "execution_count": 86,
   "id": "661ffda4",
   "metadata": {},
   "outputs": [
    {
     "name": "stdout",
     "output_type": "stream",
     "text": [
      "3 <class 'int'>\n",
      "2 <class 'int'>\n",
      "3 <class 'int'>\n",
      "2 <class 'int'>\n",
      "5 <class 'int'>\n",
      "6 <class 'int'>\n",
      "5 <class 'int'>\n",
      "6 <class 'int'>\n",
      "5 <class 'int'>\n",
      "6 <class 'int'>\n"
     ]
    }
   ],
   "source": [
    "i = 3232565656\n",
    "for j in str(i):\n",
    "    print(int(j),type(int(j)))"
   ]
  },
  {
   "cell_type": "code",
   "execution_count": 90,
   "id": "5f116ee0",
   "metadata": {},
   "outputs": [],
   "source": [
    "t = (\"sudh\", \"kumar\", [1,2,3,4,5], (3,4,5,6), {3:3,\"key2\":\"kumar\"})"
   ]
  },
  {
   "cell_type": "code",
   "execution_count": 109,
   "id": "1aca5d21",
   "metadata": {},
   "outputs": [
    {
     "name": "stdout",
     "output_type": "stream",
     "text": [
      "3\n",
      "3\n",
      "3\n",
      "3\n"
     ]
    }
   ],
   "source": [
    "for i in t:\n",
    "    if type(i) == list or type(i) == tuple:\n",
    "        for j in i :\n",
    "            if j == 3 :\n",
    "                print(j)\n",
    "    if type(i) == dict :\n",
    "        for k, v in i.items():\n",
    "            if k == 3 or v == 3 :\n",
    "                print(k)\n",
    "                print(v)"
   ]
  },
  {
   "cell_type": "code",
   "execution_count": 95,
   "id": "868628c1",
   "metadata": {},
   "outputs": [],
   "source": [
    "d= {4:5, 'key1':\"sudh\",'key2':\"kumar\"}"
   ]
  },
  {
   "cell_type": "code",
   "execution_count": 96,
   "id": "1bf1a106",
   "metadata": {},
   "outputs": [
    {
     "data": {
      "text/plain": [
       "dict_items([(4, 5), ('key1', 'sudh'), ('key2', 'kumar')])"
      ]
     },
     "execution_count": 96,
     "metadata": {},
     "output_type": "execute_result"
    }
   ],
   "source": [
    "d.items()"
   ]
  },
  {
   "cell_type": "code",
   "execution_count": 97,
   "id": "b91df41d",
   "metadata": {},
   "outputs": [],
   "source": [
    "a=10\n",
    "b=20\n",
    "c=30"
   ]
  },
  {
   "cell_type": "code",
   "execution_count": null,
   "id": "0fbd6e29",
   "metadata": {},
   "outputs": [],
   "source": [
    "a , b, c = 10, 20, 30\n",
    "a,b,c = (10,20,30)"
   ]
  }
 ],
 "metadata": {
  "kernelspec": {
   "display_name": "Python 3 (ipykernel)",
   "language": "python",
   "name": "python3"
  },
  "language_info": {
   "codemirror_mode": {
    "name": "ipython",
    "version": 3
   },
   "file_extension": ".py",
   "mimetype": "text/x-python",
   "name": "python",
   "nbconvert_exporter": "python",
   "pygments_lexer": "ipython3",
   "version": "3.9.7"
  }
 },
 "nbformat": 4,
 "nbformat_minor": 5
}
